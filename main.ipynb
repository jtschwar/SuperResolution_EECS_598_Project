{
 "cells": [
  {
   "cell_type": "code",
   "execution_count": 2,
   "metadata": {},
   "outputs": [],
   "source": [
    "%load_ext autoreload\n",
    "%autoreload 2"
   ]
  },
  {
   "cell_type": "markdown",
   "metadata": {},
   "source": [
    "## Introduction:\n",
    "\n",
    "The goal of this project is to recover a high resolution image from a low resolution input. In order to accomplish this goal, we will be deploying the super-resolution convolutional neural network (SRCNN) using PyTorch. This network was published in the paper, **Image Super-Resolution Using Deep Convolutional Networks** by *Chao Dong, et al. in 2014*. In addition we implemented FSRCNN, XX and YY for ZZ purposes.\n",
    "\n",
    "The research paper is attached in the GitHub Repository itself.\n",
    "\n",
    "Single image super-resolution, which aims at\n",
    "recovering a high-resolution image from a single low resolution image, is a classical problem in computer\n",
    "vision, and the researchers named the proposed model Super-Resolution Convolutional Neural Network. (SRCNN)\n",
    "\n",
    "The SRCNN is a deep convolutional neural network that learns end-toend mapping of resolution to high resolution images. As a result, we can use it to improve the image quality of low resolution images.\n",
    "\n",
    "In here, we present a fully convolutional neural network for image super-resolution. The network directly learns an end-to-end mapping between low and high-resolution images, with little pre/postprocessing beyond the optimization.\n",
    "\n",
    "To evaluate the performance of this network, we will be using two image quality metrics:\n",
    "\n",
    "1. **Peak Signal-To-Noise Ratio(PSNR)**:- It is an expression for the ratio between the maximum possible value (power) of a signal and the power of distorting noise that affects the quality of its representation. The higher the PSNR, the better degraded image has been reconstructed to match the original image.\n",
    "\n",
    "2. **Structural Similarity Index(SSIM)**:- The Structural SIMilarity (SSIM) index is a method for measuring the similarity between two images. The SSIM index can be viewed as a quality measure of one of the images being compared, provided the other image is regarded as of perfect quality.\n",
    "\n",
    "Furthermore, we will be using **OpenCV** for *pre* and *post process* our images."
   ]
  },
  {
   "cell_type": "markdown",
   "metadata": {},
   "source": [
    "### 1. Importing Packages:\n",
    "\n",
    "Here we are importing the pakages that we will be using for our project and will list out the version for each one of them.\n",
    "\n",
    "Mainly we are using these following packages:\n",
    "\n",
    "1. **sys** -- provides access to some variables used or maintained by the interpreter and to functions that interact strongly with the interpreter.\n",
    "\n",
    "2. **pytorch** -- is an open-source neural-network library written in Python.\n",
    "\n",
    "3. **cv2** -- is a library of programming functions mainly aimed at real-time computer vision.\n",
    "\n",
    "4. **numpy** -- numerical computation library.\n",
    "\n",
    "5. **matplotlib** -- visualization library.\n",
    "\n",
    "6. **skimage** -- for image processing."
   ]
  },
  {
   "cell_type": "code",
   "execution_count": null,
   "metadata": {},
   "outputs": [],
   "source": [
    "import matplotlib.pyplot as plt\n",
    "from PIL import Image\n",
    "import torch"
   ]
  },
  {
   "cell_type": "markdown",
   "metadata": {},
   "source": [
    "### 2. Preparing Images\n",
    "\n",
    "For this project we will be using the same images that were used in the original SRCNN paper. All the images are under the source directory.\n",
    "\n",
    "Now we will produce low resolution versions of these same images and we will place all the low resolution images in Images directory. \n",
    "\n",
    "We will accomplish the task for lowering down the resolution by resizing the images, both downwardsa and upwards, using OpenCV and will be using bilinear interpolation.\n",
    "\n",
    "**Interpolation**:- Interpolation is the insertion of something of a different nature into something else.\n",
    "\n",
    "**Bilinear Interpolation**:- A weighted average of the attributes (color, alpha, etc.) of the four surrounding pixels is computed and applied to the screen pixel. This process is repeated for each pixel forming the object being textured."
   ]
  },
  {
   "cell_type": "code",
   "execution_count": null,
   "metadata": {},
   "outputs": [],
   "source": [
    "def prepare_images(path, factor):\n",
    "    '''\n",
    "    Function to prepare degraded images by introducing distortions via resizing\n",
    "    \n",
    "    Arguments:\n",
    "    path -- file path where the high-res images are stored.\n",
    "    factor -- value by which resizing will take place.\n",
    "    '''\n",
    "    ## looping through the files in the directory\n",
    "    for file in os.listdir(path):\n",
    "        ## open the image\n",
    "        img = cv2.imread(path + '/' + file)\n",
    "        \n",
    "        ## image dimention\n",
    "        h, w, c = img.shape\n",
    "        new_height = int(h / factor)\n",
    "        new_width = int(w / factor)\n",
    "        \n",
    "        ## resizing the image - down\n",
    "        img = cv2.resize(img, (new_width, new_height), interpolation=cv2.INTER_LINEAR)\n",
    "        \n",
    "        ## resizing the image - up\n",
    "        img = cv2.resize(img, (w, h), interpolation=cv2.INTER_LINEAR)\n",
    "        \n",
    "        ## save the image\n",
    "        cv2.imwrite('Images/{}'.format(file), img)\n",
    "        print('Saving {}'.format(file))"
   ]
  },
  {
   "cell_type": "markdown",
   "metadata": {},
   "source": [
    "### 3. Testing Low Resolution Images\n",
    "\n",
    "To ensure that our image quality metrics are being calculated correctly and that the images were effectively degraded. we will now calculate the PSNR, MSE and SSIM between our reference images and the drgraded images that we just prepared."
   ]
  },
  {
   "cell_type": "code",
   "execution_count": null,
   "metadata": {},
   "outputs": [],
   "source": [
    "## testing the generated images using image quality metrics\n",
    "for file in os.listdir('Images'):\n",
    "    ## high-res images\n",
    "    target = cv2.imread('source/{}'.format(file))\n",
    "    \n",
    "    ## low-res images\n",
    "    ref = cv2.imread('Images/{}'.format(file))\n",
    "    \n",
    "    ## calculate the scores\n",
    "    scores = compare_images(target, ref)\n",
    "    \n",
    "    ## display the results\n",
    "    print('{}\\nPSNR: {}\\nMSE: {}\\nSSIM: {}\\n'.format(file, scores[0], scores[1], scores[2]))"
   ]
  },
  {
   "cell_type": "markdown",
   "metadata": {},
   "source": [
    "### 4. Building the Models\n",
    "\n",
    "Now that we have our low resolution images and all three image quailty metrics are working properly. Now we will start building the SRCNN model. "
   ]
  },
  {
   "cell_type": "code",
   "execution_count": null,
   "metadata": {},
   "outputs": [],
   "source": [
    "import models\n",
    "\n",
    "srcnn = models.SRCNN()"
   ]
  },
  {
   "cell_type": "markdown",
   "metadata": {},
   "source": [
    "Image of SRCNN Architecture and Explanation of Components"
   ]
  },
  {
   "cell_type": "code",
   "execution_count": null,
   "metadata": {},
   "outputs": [],
   "source": []
  },
  {
   "cell_type": "markdown",
   "metadata": {},
   "source": []
  }
 ],
 "metadata": {
  "interpreter": {
   "hash": "31f2aee4e71d21fbe5cf8b01ff0e069b9275f58929596ceb00d14d90e3e16cd6"
  },
  "kernelspec": {
   "display_name": "Python 3.8.10 64-bit",
   "language": "python",
   "name": "python3"
  },
  "language_info": {
   "codemirror_mode": {
    "name": "ipython",
    "version": 3
   },
   "file_extension": ".py",
   "mimetype": "text/x-python",
   "name": "python",
   "nbconvert_exporter": "python",
   "pygments_lexer": "ipython3",
   "version": "3.9.11"
  },
  "orig_nbformat": 4
 },
 "nbformat": 4,
 "nbformat_minor": 2
}
